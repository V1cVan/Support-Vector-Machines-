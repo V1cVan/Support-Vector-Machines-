{
 "cells": [
  {
   "cell_type": "code",
   "execution_count": 18,
   "id": "71570e6c-a52c-4094-9325-293c82021752",
   "metadata": {},
   "outputs": [],
   "source": [
    "# Import packages \n",
    "import numpy as np \n",
    "import sklearn as sk\n",
    "import seaborn as sns\n",
    "import pandas as pd \n",
    "from matplotlib import pyplot as plt "
   ]
  },
  {
   "cell_type": "markdown",
   "id": "42e20a83-0496-4748-abc5-5bc0d7263c94",
   "metadata": {
    "tags": []
   },
   "source": [
    "# 1. Exercises "
   ]
  },
  {
   "cell_type": "markdown",
   "id": "363bb58b-b8aa-4690-853e-39ddb0e6dc32",
   "metadata": {},
   "source": [
    "## 1.1 Two Gaussians "
   ]
  },
  {
   "cell_type": "code",
   "execution_count": 32,
   "id": "be909f2c-b4c3-42cb-8314-9b2450f1111b",
   "metadata": {},
   "outputs": [],
   "source": [
    "# Generate random data with mean of 0 +- 1 and covariance of 1\n",
    "x1 = np.random.randn(50,2) + 1 \n",
    "x2 = np.random.randn(51,2) - 1 "
   ]
  },
  {
   "cell_type": "code",
   "execution_count": 33,
   "id": "6c3c551a-8fe7-43c1-b2ae-9908e2d4ba3c",
   "metadata": {},
   "outputs": [
    {
     "data": {
      "text/plain": [
       "((50, 2), (51, 2))"
      ]
     },
     "execution_count": 33,
     "metadata": {},
     "output_type": "execute_result"
    }
   ],
   "source": [
    "x1.shape, x2.shape"
   ]
  },
  {
   "cell_type": "code",
   "execution_count": 34,
   "id": "479f2a14-84aa-4c94-8133-8c280a2e371e",
   "metadata": {},
   "outputs": [],
   "source": [
    "y1 = np.ones((50,1))\n",
    "y2 = -1.0*np.ones((51,1));"
   ]
  },
  {
   "cell_type": "code",
   "execution_count": 35,
   "id": "94b2d677-039e-4250-bde5-15a08f8e2120",
   "metadata": {},
   "outputs": [
    {
     "data": {
      "text/plain": [
       "((50, 1), (51, 1))"
      ]
     },
     "execution_count": 35,
     "metadata": {},
     "output_type": "execute_result"
    }
   ],
   "source": [
    "y1.shape, y2.shape"
   ]
  },
  {
   "cell_type": "code",
   "execution_count": 43,
   "id": "19fe615b-c8a0-47a8-83e4-17ef2ea7a857",
   "metadata": {},
   "outputs": [
    {
     "data": {
      "text/plain": [
       "<matplotlib.legend.Legend at 0x270d71bbd60>"
      ]
     },
     "execution_count": 43,
     "metadata": {},
     "output_type": "execute_result"
    },
    {
     "data": {
      "image/png": "[encoded data removed]",
      "text/plain": [
       "<Figure size 432x288 with 1 Axes>"
      ]
     },
     "metadata": {},
     "output_type": "display_data"
    }
   ],
   "source": [
    "sns.set_style(\"darkgrid\")\n",
    "plt.figure()\n",
    "plt.plot(x1[:,0], x1[:,1], 'ro')\n",
    "plt.plot(x2[:,0], x2[:,1], 'bo')\n",
    "x = np.arange(-3,4)\n",
    "y = x*-1\n",
    "plt.plot(x, y, 'g-')\n",
    "plt.legend(['$X1$', '$X2$', '$y=-x$'])"
   ]
  },
  {
   "cell_type": "markdown",
   "id": "53569066-33d6-40df-b26e-b4dca8e1630d",
   "metadata": {},
   "source": [
    "Question: \n",
    "Obtain a line to classify the data by using what you know about the distributions of the data. In which sense is it optimal?"
   ]
  },
  {
   "cell_type": "markdown",
   "id": "a0020119-0609-43ba-a791-1e3881cd2d6b",
   "metadata": {},
   "source": [
    "Answer: Linear split line y=-x is the optimal line to split the dataset since the two Gaussian distributions have a mean of $\\mu$(X1) = (1,1) and $\\mu$(X2) = (-1,-1). The line of y=-x runs perfectly in the middle between these two distributions. "
   ]
  },
  {
   "cell_type": "markdown",
   "id": "9b90dc7e-a3fa-4f3c-b096-b4d6513a2f6f",
   "metadata": {},
   "source": [
    "## 1.2 Support vector machine classifier "
   ]
  },
  {
   "cell_type": "markdown",
   "id": "3b4a7e96-3e9f-4d7b-842d-879f9d88f9de",
   "metadata": {},
   "source": [
    "Question: \n",
    "What do you observe when you add more data points to the dataset - both on the right and on the wrong side of the hyperplane. How does it affect the\n",
    "classification hyperplane?\n",
    "\n",
    "Answer: \n",
    "RBF\n",
    "- With more datapoints to one class the classification boundary expands as more confidence is added to the correpsonding class \n",
    "\n",
    "Linear \n",
    "- Only datapoints that are added in the support vector zone make a difference to the clasisifcation boundary i.e. the data points that define the support vectors themselves. "
   ]
  },
  {
   "cell_type": "markdown",
   "id": "94686003-df56-4427-8e72-5cdaa182419e",
   "metadata": {},
   "source": [
    "Question:\n",
    "\n",
    "Try out different values of the regularization hyperparameter C and the kernel\n",
    "parameter sigma. What is the role of the parameters? How do these parameters\n",
    "affect the classification outcome?\n",
    "\n",
    "\n",
    "Answer: \n",
    "\n",
    "Regularisation hyperparameter C affects the model by adding a term to the objective / loss function. It prevents overfitting by decreasing the weight datapoints have on the loss function. Without regularistion the model is prone to overfitting the data and outliers may decrease the overall classification performance of the model. \n"
   ]
  },
  {
   "cell_type": "code",
   "execution_count": null,
   "id": "45fe7a6c-a04e-4c7f-a229-4b1f74a1e776",
   "metadata": {},
   "outputs": [],
   "source": []
  }
 ],
 "metadata": {
  "kernelspec": {
   "display_name": "Python 3 (ipykernel)",
   "language": "python",
   "name": "python3"
  },
  "language_info": {
   "codemirror_mode": {
    "name": "ipython",
    "version": 3
   },
   "file_extension": ".py",
   "mimetype": "text/x-python",
   "name": "python",
   "nbconvert_exporter": "python",
   "pygments_lexer": "ipython3",
   "version": "3.8.11"
  }
 },
 "nbformat": 4,
 "nbformat_minor": 5
}
